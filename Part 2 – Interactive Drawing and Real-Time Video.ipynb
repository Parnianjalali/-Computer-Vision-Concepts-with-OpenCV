{
 "cells": [
  {
   "cell_type": "markdown",
   "id": "a68ec7eb-edfc-47cd-acb4-5982be2e322b",
   "metadata": {},
   "source": [
    "## Interactive OpenCV and Real-Time Video\n",
    "\n",
    "In this section, we explore more **interactive and real-time applications** using OpenCV. The key topics include:\n",
    "\n",
    "- Handling **mouse events** to draw shapes like circles, rectangles, and freehand brush strokes  \n",
    "- Implementing **live previews** and **undo functionality** for drawing  \n",
    "- Using **keyboard input** to change colors and clear the canvas  \n",
    "- Creating **trackbars** to interactively adjust parameters such as image blending and color channel intensities  \n",
    "- Capturing **live video from webcams** and processing frames in real-time  \n",
    "- Saving **webcam video** to a file with adjustable codec and frame size  \n",
    "- Capturing the **screen or a region of the screen** for live monitoring or recording  \n",
    "\n",
    "By following these exercises, you will learn how to create **interactive OpenCV applications**, manipulate images in real-time, and capture video from different sources.\n"
   ]
  },
  {
   "cell_type": "markdown",
   "id": "88ec8627-9ac7-4145-8928-99f461cd7ad4",
   "metadata": {},
   "source": [
    "### Importing Libraries\n",
    "\n",
    "Before starting, we need to import the required libraries:\n",
    "\n",
    "- **OpenCV (`cv2`)** → the main library for image processing and computer vision tasks.  \n",
    "- **NumPy (`np`)** → useful for handling arrays and numerical operations.  \n",
    "- **Matplotlib (`plt`)** → helps visualize images and results inside the notebook.  \n"
   ]
  },
  {
   "cell_type": "code",
   "execution_count": 2,
   "id": "1860326e-ed99-4f3f-b217-0017decc16bd",
   "metadata": {},
   "outputs": [],
   "source": [
    "import cv2 as cv\n",
    "import numpy as np\n",
    "import matplotlib.pyplot as plt"
   ]
  },
  {
   "cell_type": "markdown",
   "id": "d0610623-11b2-4641-9667-8972dc85dee7",
   "metadata": {},
   "source": [
    "### Exploring Mouse Events in OpenCV  \n",
    "\n",
    "OpenCV allows interaction using **mouse events** (e.g., left click, right click, double click, drag).  \n",
    "To see the available events, we can filter all attributes of `cv` that contain `\"EVENT\"` in their name.  "
   ]
  },
  {
   "cell_type": "code",
   "execution_count": 2,
   "id": "b07c0fd1-bd50-4a21-98b6-71daab40b3cd",
   "metadata": {},
   "outputs": [
    {
     "name": "stdout",
     "output_type": "stream",
     "text": [
      "['EVENT_FLAG_ALTKEY', 'EVENT_FLAG_CTRLKEY', 'EVENT_FLAG_LBUTTON', 'EVENT_FLAG_MBUTTON', 'EVENT_FLAG_RBUTTON', 'EVENT_FLAG_SHIFTKEY', 'EVENT_LBUTTONDBLCLK', 'EVENT_LBUTTONDOWN', 'EVENT_LBUTTONUP', 'EVENT_MBUTTONDBLCLK', 'EVENT_MBUTTONDOWN', 'EVENT_MBUTTONUP', 'EVENT_MOUSEHWHEEL', 'EVENT_MOUSEMOVE', 'EVENT_MOUSEWHEEL', 'EVENT_RBUTTONDBLCLK', 'EVENT_RBUTTONDOWN', 'EVENT_RBUTTONUP']\n"
     ]
    }
   ],
   "source": [
    "event=[i for i in dir(cv) if \"EVENT\" in i]\n",
    "print(event)"
   ]
  },
  {
   "cell_type": "markdown",
   "id": "3bb0d1c2-4469-415d-bc2e-e77357a808a2",
   "metadata": {},
   "source": [
    "### Drawing Shapes with Mouse Events  \n",
    "\n",
    "This example shows how to use **mouse events** in OpenCV to draw shapes directly on an image.  \n",
    "\n",
    "1. First, we create a blank (black) image with `np.zeros`.  \n",
    "2. Then, we define a function `draw_circle` that reacts to mouse events:  \n",
    "   - If the **left mouse button** is clicked (`EVENT_LBUTTONDOWN`), a blue circle is drawn at the click position.  \n",
    "   - If the **right mouse button** is clicked (`EVENT_RBUTTONDOWN`), a green rectangle is drawn at the click position.  \n",
    "3. We link this function to a window using `cv.setMouseCallback`.  \n",
    "4. A `while` loop keeps the window open and updates the image as long as the user interacts.  \n",
    "5. The loop exits when the **Esc key (27)** is pressed.  \n",
    "6. `cv.destroyAllWindows()` is then called to close any OpenCV windows that were opened.  \n",
    "\n",
    "Finally, we use `matplotlib` (`plt.imshow`) to display the final image inside the notebook environment.  \n",
    "\n",
    "This setup lets you **interactively draw** on an image:  \n",
    "- **Left click** → blue circle  \n",
    "- **Right click** → green rectangle  \n",
    "- **Esc** → close the window  \n"
   ]
  },
  {
   "cell_type": "code",
   "execution_count": 7,
   "id": "5f13ac14-7fbc-4396-a415-e8babf35a308",
   "metadata": {},
   "outputs": [
    {
     "data": {
      "text/plain": [
       "<matplotlib.image.AxesImage at 0x181779ed450>"
      ]
     },
     "execution_count": 7,
     "metadata": {},
     "output_type": "execute_result"
    },
    {
     "data": {
      "image/png": "[encoded data removed]",
      "text/plain": [
       "<Figure size 640x480 with 1 Axes>"
      ]
     },
     "metadata": {},
     "output_type": "display_data"
    }
   ],
   "source": [
    "def draw_circle(event,x,y,flag,param):\n",
    "\n",
    "    if event==cv.EVENT_LBUTTONDOWN:\n",
    "        cv.circle(img,(x,y),20,(255,0,0),-1)\n",
    "    elif event==cv.EVENT_RBUTTONDOWN:\n",
    "        cv.rectangle(img,(x,y),(x+10,y-10),(0,255,0),-1)\n",
    "\n",
    "img=np.zeros((512,512,3),\"uint8\")\n",
    "cv.namedWindow(\"image\")\n",
    "cv.setMouseCallback(\"image\",draw_circle)\n",
    "\n",
    "\n",
    "while True:\n",
    "    cv.imshow(\"image\",img)\n",
    "    if cv.waitKey(1) & 0xFF==27:\n",
    "        break\n",
    "\n",
    "cv.destroyAllWindows()   \n",
    "plt.imshow(img[:,:,::-1])"
   ]
  },
  {
   "cell_type": "markdown",
   "id": "cc94aa81-7103-47b0-90e9-63c1931db976",
   "metadata": {},
   "source": [
    "### Freehand Drawing with the Mouse (Brush Tool)\n",
    "\n",
    "In this example, we extend mouse interaction to create a **brush tool**, allowing us to draw freely on the image by holding and dragging the mouse.\n",
    "\n",
    "1. A global variable `drawing` is used to track whether the left mouse button is pressed.  \n",
    "2. Inside the function `brush`:  \n",
    "   - `EVENT_LBUTTONDOWN` → activates drawing mode (sets `drawing = True`).  \n",
    "   - `EVENT_MOUSEMOVE` → if drawing mode is active, a **green circle** is drawn at the current mouse position. Since this happens continuously while moving, it creates the effect of painting.  \n",
    "   - `EVENT_LBUTTONUP` → deactivates drawing mode (sets `drawing = False`).  \n",
    "3. We connect this function to a window using `cv.setMouseCallback(\"image\", brush)`.  \n",
    "4. The loop keeps updating the window until the **Esc key** is pressed.  \n",
    "5. `cv.destroyAllWindows()` ensures all OpenCV windows are properly closed.  \n",
    "6. Finally, the result is shown in the notebook with `plt.imshow`.  \n",
    "\n",
    "With this setup, you can **draw freehand** on the canvas:  \n",
    "- Hold **left click** → start drawing.  \n",
    "- Move the mouse → paint on the image.  \n",
    "- Release the left click → stop drawing.  \n",
    "- Press **Esc** → exit.  \n"
   ]
  },
  {
   "cell_type": "code",
   "execution_count": 8,
   "id": "40de7793-0c39-413d-8b26-2b878cf4462b",
   "metadata": {},
   "outputs": [
    {
     "data": {
      "text/plain": [
       "<matplotlib.image.AxesImage at 0x18177a374d0>"
      ]
     },
     "execution_count": 8,
     "metadata": {},
     "output_type": "execute_result"
    },
    {
     "data": {
      "image/png": "[encoded data removed]",
      "text/plain": [
       "<Figure size 640x480 with 1 Axes>"
      ]
     },
     "metadata": {},
     "output_type": "display_data"
    }
   ],
   "source": [
    "drawing=False\n",
    "def brush(event,x,y,flag,param):\n",
    "    global drawing\n",
    "\n",
    "    if event==cv.EVENT_LBUTTONDOWN:\n",
    "        drawing=True\n",
    "    elif event==cv.EVENT_MOUSEMOVE:  \n",
    "      if drawing==True:\n",
    "           cv.circle(img,(x,y),20,(0,255,0),-1)\n",
    "    elif event==cv.EVENT_LBUTTONUP:\n",
    "        drawing=False\n",
    "                                        \n",
    "img=np.zeros((512,512,3),\"uint8\")\n",
    "\n",
    "cv.namedWindow(\"image\")\n",
    "cv.setMouseCallback(\"image\",brush)\n",
    "\n",
    "while True:\n",
    "    cv.imshow(\"image\",img)\n",
    "    if cv.waitKey(1) & 0xFF==27:\n",
    "        break\n",
    "cv.destroyAllWindows()\n",
    "plt.imshow(img[:,:,::-1])"
   ]
  },
  {
   "cell_type": "markdown",
   "id": "3d29ac37-0c8d-43ef-8b46-b8ca45f16986",
   "metadata": {},
   "source": [
    "### Freehand Drawing with Multiple Colors  \n",
    "\n",
    "This example extends the previous brush tool by allowing **color changes** using the right mouse button.  \n",
    "\n",
    "1. **Global variables**:  \n",
    "   - `drawing` → tracks whether we are currently drawing.  \n",
    "   - `color` → current drawing color (initially green).  \n",
    "   - `i` → index used to cycle through colors.  \n",
    "\n",
    "2. Inside the `brush` function:  \n",
    "   - `EVENT_RBUTTONDOWN` → cycles through a predefined list of colors `[green, blue, red]`. Each right-click changes the current drawing color.  \n",
    "   - `EVENT_LBUTTONDOWN` → starts drawing.  \n",
    "   - `EVENT_MOUSEMOVE` → while drawing, a circle of the **current color** is drawn at the mouse position, enabling freehand painting.  \n",
    "   - `EVENT_LBUTTONUP` → stops drawing.  \n",
    "\n",
    "3. The function is connected to the window using `cv.setMouseCallback(\"image\", brush)`.  \n",
    "4. The `while` loop continuously updates the image until **Esc key (27)** is pressed.  \n",
    "5. `cv.destroyAllWindows()` closes all OpenCV windows.  \n",
    "6. Finally, `plt.imshow` displays the resulting image in the notebook.  \n",
    "\n",
    "**How it works in practice**:  \n",
    "- Hold **left click** and move the mouse → draw with the current color.  \n",
    "- Right click → switch to the next color in the sequence.  \n",
    "- Release left click → stop drawing.  \n",
    "- Press **Esc** → exit the interactive window.  \n"
   ]
  },
  {
   "cell_type": "code",
   "execution_count": 9,
   "id": "c5207d31-d647-4f07-8715-61967a5edfc5",
   "metadata": {},
   "outputs": [
    {
     "ename": "IndexError",
     "evalue": "list index out of range",
     "output_type": "error",
     "traceback": [
      "\u001b[1;31m---------------------------------------------------------------------------\u001b[0m",
      "\u001b[1;31mIndexError\u001b[0m                                Traceback (most recent call last)",
      "Cell \u001b[1;32mIn[9], line 10\u001b[0m, in \u001b[0;36mbrush\u001b[1;34m(event, x, y, flag, param)\u001b[0m\n\u001b[0;32m      8\u001b[0m \u001b[38;5;28;01mif\u001b[39;00m event\u001b[38;5;241m==\u001b[39mcv\u001b[38;5;241m.\u001b[39mEVENT_RBUTTONDOWN:\n\u001b[0;32m      9\u001b[0m    colors\u001b[38;5;241m=\u001b[39m[(\u001b[38;5;241m0\u001b[39m,\u001b[38;5;241m255\u001b[39m,\u001b[38;5;241m0\u001b[39m),(\u001b[38;5;241m255\u001b[39m,\u001b[38;5;241m0\u001b[39m,\u001b[38;5;241m0\u001b[39m),(\u001b[38;5;241m0\u001b[39m,\u001b[38;5;241m0\u001b[39m,\u001b[38;5;241m255\u001b[39m)]\n\u001b[1;32m---> 10\u001b[0m    color\u001b[38;5;241m=\u001b[39mcolors[i]\n\u001b[0;32m     11\u001b[0m    i\u001b[38;5;241m+\u001b[39m\u001b[38;5;241m=\u001b[39m\u001b[38;5;241m1\u001b[39m\n\u001b[0;32m     12\u001b[0m \u001b[38;5;28;01mif\u001b[39;00m event\u001b[38;5;241m==\u001b[39mcv\u001b[38;5;241m.\u001b[39mEVENT_LBUTTONDOWN:\n",
      "\u001b[1;31mIndexError\u001b[0m: list index out of range"
     ]
    },
    {
     "ename": "IndexError",
     "evalue": "list index out of range",
     "output_type": "error",
     "traceback": [
      "\u001b[1;31m---------------------------------------------------------------------------\u001b[0m",
      "\u001b[1;31mIndexError\u001b[0m                                Traceback (most recent call last)",
      "Cell \u001b[1;32mIn[9], line 10\u001b[0m, in \u001b[0;36mbrush\u001b[1;34m(event, x, y, flag, param)\u001b[0m\n\u001b[0;32m      8\u001b[0m \u001b[38;5;28;01mif\u001b[39;00m event\u001b[38;5;241m==\u001b[39mcv\u001b[38;5;241m.\u001b[39mEVENT_RBUTTONDOWN:\n\u001b[0;32m      9\u001b[0m    colors\u001b[38;5;241m=\u001b[39m[(\u001b[38;5;241m0\u001b[39m,\u001b[38;5;241m255\u001b[39m,\u001b[38;5;241m0\u001b[39m),(\u001b[38;5;241m255\u001b[39m,\u001b[38;5;241m0\u001b[39m,\u001b[38;5;241m0\u001b[39m),(\u001b[38;5;241m0\u001b[39m,\u001b[38;5;241m0\u001b[39m,\u001b[38;5;241m255\u001b[39m)]\n\u001b[1;32m---> 10\u001b[0m    color\u001b[38;5;241m=\u001b[39mcolors[i]\n\u001b[0;32m     11\u001b[0m    i\u001b[38;5;241m+\u001b[39m\u001b[38;5;241m=\u001b[39m\u001b[38;5;241m1\u001b[39m\n\u001b[0;32m     12\u001b[0m \u001b[38;5;28;01mif\u001b[39;00m event\u001b[38;5;241m==\u001b[39mcv\u001b[38;5;241m.\u001b[39mEVENT_LBUTTONDOWN:\n",
      "\u001b[1;31mIndexError\u001b[0m: list index out of range"
     ]
    },
    {
     "data": {
      "text/plain": [
       "<matplotlib.image.AxesImage at 0x18178daa350>"
      ]
     },
     "execution_count": 9,
     "metadata": {},
     "output_type": "execute_result"
    },
    {
     "data": {
      "image/png": "[encoded data removed]",
      "text/plain": [
       "<Figure size 640x480 with 1 Axes>"
      ]
     },
     "metadata": {},
     "output_type": "display_data"
    }
   ],
   "source": [
    "drawing=False\n",
    "color=(0,255,0)\n",
    "i=-1\n",
    "def brush(event,x,y,flag,param):\n",
    "    global drawing\n",
    "    global i \n",
    "    global color\n",
    "    if event==cv.EVENT_RBUTTONDOWN:\n",
    "       colors=[(0,255,0),(255,0,0),(0,0,255)]\n",
    "       color=colors[i]\n",
    "       i+=1\n",
    "    if event==cv.EVENT_LBUTTONDOWN:\n",
    "        drawing=True\n",
    "    elif event==cv.EVENT_MOUSEMOVE:  \n",
    "      if drawing==True:\n",
    "           cv.circle(img,(x,y),20,color,-1)\n",
    "    elif event==cv.EVENT_LBUTTONUP:\n",
    "        drawing=False\n",
    "                                        \n",
    "img=np.zeros((512,512,3),\"uint8\")\n",
    "\n",
    "cv.namedWindow(\"image\")\n",
    "cv.setMouseCallback(\"image\",brush)\n",
    "\n",
    "while True:\n",
    "    cv.imshow(\"image\",img)\n",
    "    \n",
    "    if cv.waitKey(1) & 0xFF==27:\n",
    "        break\n",
    "cv.destroyAllWindows()\n",
    "plt.imshow(img[:,:,::-1])"
   ]
  },
  {
   "cell_type": "markdown",
   "id": "bdbe9636-bfce-4f96-bc4b-5ee70a7a5611",
   "metadata": {},
   "source": [
    "### Freehand Drawing with Keyboard-Controlled Colors  \n",
    "\n",
    "This example improves the brush tool by allowing **color changes using keyboard keys** instead of the mouse.  \n",
    "\n",
    "1. **Global variables**:  \n",
    "   - `drawing` → tracks whether we are currently drawing.  \n",
    "   - `color` → current drawing color (initially green).  \n",
    "\n",
    "2. Inside the `brush` function:  \n",
    "   - `EVENT_LBUTTONDOWN` → starts drawing.  \n",
    "   - `EVENT_MOUSEMOVE` → while drawing, draws a circle at the mouse position with the current color.  \n",
    "   - `EVENT_LBUTTONUP` → stops drawing.  \n",
    "\n",
    "3. The function is connected to the window using `cv.setMouseCallback(\"image\", brush)`.  \n",
    "4. In the `while` loop, `cv.waitKey(1)` listens for key presses to change the drawing color:  \n",
    "   - Press **`g`** → switch to green `(0,255,0)`  \n",
    "   - Press **`r`** → switch to red `(0,0,255)`  \n",
    "   - Press **`b`** → switch to blue `(255,0,0)`  \n",
    "   - Press **Esc (27)** → exit the loop  \n",
    "\n",
    "5. `cv.destroyAllWindows()` closes all OpenCV windows.  \n",
    "6. `plt.imshow` displays the final painted image in the notebook.  \n",
    "\n",
    "**Usage**:  \n",
    "- Hold **left click** and drag → draw on the image.  \n",
    "- Press **`g` / `r` / `b`** → change the color while drawing.  \n",
    "- Release left click → stop drawing.  \n",
    "- Press **Esc** → close the window.  \n"
   ]
  },
  {
   "cell_type": "code",
   "execution_count": 10,
   "id": "a88b604d-6f66-406f-904c-78b0339b157e",
   "metadata": {},
   "outputs": [
    {
     "data": {
      "text/plain": [
       "<matplotlib.image.AxesImage at 0x18178e042d0>"
      ]
     },
     "execution_count": 10,
     "metadata": {},
     "output_type": "execute_result"
    },
    {
     "data": {
      "image/png": "[encoded data removed]",
      "text/plain": [
       "<Figure size 640x480 with 1 Axes>"
      ]
     },
     "metadata": {},
     "output_type": "display_data"
    }
   ],
   "source": [
    "drawing=False\n",
    "color=(0,255,0)\n",
    "\n",
    "def brush(event,x,y,flag,param):\n",
    "    global drawing\n",
    "    global color\n",
    "    \n",
    "    if event==cv.EVENT_LBUTTONDOWN:\n",
    "        drawing=True\n",
    "    elif event==cv.EVENT_MOUSEMOVE:  \n",
    "      if drawing==True:\n",
    "           cv.circle(img,(x,y),20,color,-1)\n",
    "    elif event==cv.EVENT_LBUTTONUP:\n",
    "        drawing=False\n",
    "                                        \n",
    "img=np.zeros((512,512,3),\"uint8\")\n",
    "\n",
    "cv.namedWindow(\"image\")\n",
    "cv.setMouseCallback(\"image\",brush)\n",
    "\n",
    "while True:\n",
    "    cv.imshow(\"image\",img)\n",
    "    k=cv.waitKey(1)\n",
    "    if k==ord(\"g\"):\n",
    "        color=(0,255,0)\n",
    "    elif k==ord(\"r\"):\n",
    "        color=(0,0,255)\n",
    "    elif k==ord(\"b\"):\n",
    "        color=(255,0,0)\n",
    "    elif k==27:  \n",
    "        break\n",
    "cv.destroyAllWindows()\n",
    "plt.imshow(img[:,:,::-1])"
   ]
  },
  {
   "cell_type": "markdown",
   "id": "84d84f94-f7ab-4fca-b890-bc6a14a50a53",
   "metadata": {},
   "source": [
    "### Drawing Rectangles Interactively with the Mouse  \n",
    "\n",
    "This example shows how to **draw rectangles interactively** by clicking and dragging the mouse.  \n",
    "\n",
    "1. **Global variables**:  \n",
    "   - `drawing` → tracks whether we are currently drawing.  \n",
    "   - `start_point` → stores the coordinates where the left mouse button was first pressed.  \n",
    "\n",
    "2. Inside the `rectangle_draw` function:  \n",
    "   - `EVENT_LBUTTONDOWN` → starts drawing and stores the starting coordinates `(x, y)`.  \n",
    "   - `EVENT_MOUSEMOVE` → while the mouse is pressed, a rectangle is drawn from `start_point` to the current mouse position. This provides a **live preview** of the rectangle.  \n",
    "   - `EVENT_LBUTTONUP` → finalizes the rectangle at the endpoint `(x, y)` and stops drawing.  \n",
    "\n",
    "3. `img.copy()` is stored in `colon` so we can **reset the image** if needed.  \n",
    "4. The mouse callback is set with `cv.setMouseCallback(\"image\", rectangle_draw)`.  \n",
    "5. The `while` loop updates the window continuously:  \n",
    "   - Press **`r`** → reset the canvas to the original blank image.  \n",
    "   - Press **Esc (27)** → exit the loop.  \n",
    "\n",
    "6. `cv.destroyAllWindows()` closes all OpenCV windows.  \n",
    "7. `plt.imshow` displays the final image in the notebook.  \n",
    "\n",
    "**Usage**:  \n",
    "- Click and hold **left mouse button** → start drawing a rectangle.  \n",
    "- Move the mouse → see the live rectangle preview.  \n",
    "- Release left click → finalize the rectangle.  \n",
    "- Press **`r`** → reset canvas.  \n",
    "- Press **Esc** → close window.  \n"
   ]
  },
  {
   "cell_type": "code",
   "execution_count": 11,
   "id": "6dc608cc-1e4e-45b0-95f0-1e9219e2bb3a",
   "metadata": {},
   "outputs": [
    {
     "name": "stderr",
     "output_type": "stream",
     "text": [
      "Clipping input data to the valid range for imshow with RGB data ([0..1] for floats or [0..255] for integers). Got range [0.0..255.0].\n"
     ]
    },
    {
     "data": {
      "text/plain": [
       "<matplotlib.image.AxesImage at 0x18178e6a0d0>"
      ]
     },
     "execution_count": 11,
     "metadata": {},
     "output_type": "execute_result"
    },
    {
     "data": {
      "image/png": "[encoded data removed]",
      "text/plain": [
       "<Figure size 640x480 with 1 Axes>"
      ]
     },
     "metadata": {},
     "output_type": "display_data"
    }
   ],
   "source": [
    "\n",
    "drawing=False\n",
    "def rectangle_draw(event,x,y,flag,param):\n",
    "    global drawing, start_point\n",
    "    if event==cv.EVENT_LBUTTONDOWN:\n",
    "        drawing=True\n",
    "        start_point=(x,y)\n",
    "    elif event==cv.EVENT_MOUSEMOVE:\n",
    "        if drawing==True:\n",
    "            cv.rectangle(img,start_point,(x,y),(0,255,0),5)\n",
    "    elif event==cv.EVENT_LBUTTONUP:\n",
    "        if drawing==True:\n",
    "         end_point=(x,y)\n",
    "         cv.rectangle(img,start_point,end_point,(0,255,0),1)\n",
    "         drawing=False\n",
    "img=np.zeros((512,512,3))\n",
    "colon=img.copy()\n",
    "cv.namedWindow(\"image\")\n",
    "cv.setMouseCallback(\"image\",rectangle_draw)\n",
    "\n",
    "while True:\n",
    "    cv.imshow(\"image\",img)\n",
    "    k=cv.waitKey(1)\n",
    "    if k ==ord(\"r\"):\n",
    "       img=colon.copy()    \n",
    "    if k==27:\n",
    "        break\n",
    "cv.destroyAllWindows()\n",
    "plt.imshow(img[:,:,::-1])"
   ]
  },
  {
   "cell_type": "markdown",
   "id": "e8cb42b0-ba91-4cad-a0d7-d6212de59ff8",
   "metadata": {},
   "source": [
    "### Solving the Overlapping Rectangle Issue  \n",
    "\n",
    "In the previous rectangle-drawing example, moving the mouse while drawing created **multiple overlapping rectangles** on the canvas.  \n",
    "This happens because `cv.rectangle` was directly drawn on the main image during `EVENT_MOUSEMOVE`.\n",
    "\n",
    "#### How this solution fixes it:\n",
    "\n",
    "1. **Temporary copy (`temp`)**:  \n",
    "   - During mouse movement (`EVENT_MOUSEMOVE`), we create a copy of the original image (`temp = img.copy()`).  \n",
    "   - The rectangle is drawn only on this temporary copy.  \n",
    "   - `cv.imshow` displays the temporary image, giving a **clean live preview** without altering the original image.  \n",
    "\n",
    "2. **Final rectangle drawn on main image**:  \n",
    "   - When the mouse button is released (`EVENT_LBUTTONUP`), the rectangle is drawn on the main image (`img`).  \n",
    "   - This ensures only finalized rectangles persist, while temporary previews do not overlap.  \n",
    "\n",
    "3. **Undo support**:  \n",
    "   - All finalized rectangles are stored in the `points` list.  \n",
    "   - Pressing **`z`** pops the last rectangle and redraws the remaining rectangles on the canvas, giving a simple **undo functionality**.  \n",
    "\n",
    "**Result:**  \n",
    "- Live preview during drawing without unwanted overlaps.  \n",
    "- Ability to undo rectangles.  \n",
    "- Clean and user-friendly interactive rectangle drawing.\n"
   ]
  },
  {
   "cell_type": "code",
   "execution_count": 12,
   "id": "6f5582e2-d36d-4fee-b372-96dceddb4150",
   "metadata": {},
   "outputs": [
    {
     "name": "stderr",
     "output_type": "stream",
     "text": [
      "Clipping input data to the valid range for imshow with RGB data ([0..1] for floats or [0..255] for integers). Got range [0.0..255.0].\n"
     ]
    },
    {
     "name": "stdout",
     "output_type": "stream",
     "text": [
      "[[(78, 77), (242, 227)], [(350, 259), (186, 404)], [(86, 339), (113, 392)], [(307, 67), (356, 190)], [(401, 101), (478, 213)]]\n"
     ]
    },
    {
     "data": {
      "image/png": "[encoded data removed]",
      "text/plain": [
       "<Figure size 640x480 with 1 Axes>"
      ]
     },
     "metadata": {},
     "output_type": "display_data"
    }
   ],
   "source": [
    "points=[]\n",
    "drawing=False\n",
    "def rectangle_draw(event,x,y,flag,param):\n",
    "    global drawing, start_point\n",
    "    if event==cv.EVENT_LBUTTONDOWN:\n",
    "        drawing=True\n",
    "        start_point=(x,y)\n",
    "    elif event==cv.EVENT_MOUSEMOVE:\n",
    "        if drawing==True:\n",
    "            temp=img.copy()\n",
    "            cv.rectangle(temp,start_point,(x,y),(0,255,0),1)\n",
    "            cv.imshow(\"image\",temp)\n",
    "    elif event==cv.EVENT_LBUTTONUP:\n",
    "        if drawing==True:\n",
    "         end_point=(x,y)\n",
    "         cv.rectangle(img,start_point,end_point,(0,255,0),1)\n",
    "         points.append([start_point,end_point])   \n",
    "         drawing=False\n",
    "img=np.zeros((512,512,3))\n",
    "colon=img.copy()\n",
    "temp=img.copy()\n",
    "cv.namedWindow(\"image\")\n",
    "cv.setMouseCallback(\"image\",rectangle_draw)\n",
    "\n",
    "while True:\n",
    "    cv.imshow(\"image\",img)\n",
    "    k=cv.waitKey(1)\n",
    "    if k ==ord(\"r\"):\n",
    "       img=colon.copy() \n",
    "    if k==ord(\"z\"):\n",
    "        img=colon.copy()\n",
    "        points.pop()\n",
    "        for i in points:\n",
    "          cv.rectangle(img,i[0],i[1],(0,255,0),1)\n",
    "            \n",
    "    if k==27:\n",
    "        break\n",
    "cv.destroyAllWindows()\n",
    "plt.imshow(img[:,:,::-1])\n",
    "print(points)"
   ]
  },
  {
   "cell_type": "markdown",
   "id": "73b8218c-7e26-4728-ac1f-c19c4cf3a7e4",
   "metadata": {},
   "source": [
    "### Interactive Image Blending with Trackbar  \n",
    "\n",
    "This example demonstrates how to **blend two images interactively** using a trackbar in OpenCV.  \n",
    "\n",
    "---\n",
    "\n",
    "#### How it works:\n",
    "\n",
    "1. **Images Setup**:  \n",
    "   - `img1` → a blue image (`img1[:,:,0] = 255`)  \n",
    "   - `img2` → a red image (`img2[:,:,2] = 255`)  \n",
    "\n",
    "2. **Blending Function** (`change_weight`):  \n",
    "   - `alpha` → weight of `img1` (from trackbar position)  \n",
    "   - `beta` → weight of `img2` (`beta = 1 - alpha`)  \n",
    "   - `cv.addWeighted(img1, alpha, img2, beta, 0)` → combines the two images using the weights.  \n",
    "   - `cv.imshow` → displays the blended result in the window.  \n",
    "\n",
    "3. **Trackbar Setup**:  \n",
    "   - `cv.createTrackbar` creates a trackbar named `\"alpha\"` in the window `\"image\"`.  \n",
    "   - Moving the trackbar updates the blending in real-time by calling `change_weight`.  \n",
    "   - `max_value = 100` defines the trackbar range.  \n",
    "\n",
    "4. **Execution**:  \n",
    "   - Initially, `change_weight(0)` is called to show the first state.  \n",
    "   - `cv.waitKey()` waits for a key press to exit.  \n",
    "   - `cv.destroyAllWindows()` closes all OpenCV windows.  \n",
    "\n",
    "---\n",
    "\n",
    "**Usage**:  \n",
    "- Move the **trackbar** to change the blending ratio between the blue and red images.  \n",
    "- The **blended image** updates in real-time.  \n",
    "- Press any key → close the window.  \n",
    "\n",
    "This method is useful for **interactive experiments** where you want to control the contribution of two images dynamically.\n"
   ]
  },
  {
   "cell_type": "code",
   "execution_count": 3,
   "id": "fb3da45b-80c0-4c11-b78c-e9c043dd7662",
   "metadata": {},
   "outputs": [],
   "source": [
    "title_window=\"image\"\n",
    "max_value=100\n",
    "def change_weight(value):\n",
    "    alpha=(value/max_value)\n",
    "    beta=(1-alpha)\n",
    "    total=cv.addWeighted(img1,alpha,img2,beta,0)\n",
    "    cv.imshow(title_window,total)\n",
    "    \n",
    "\n",
    "img1=np.zeros((512,512,3),\"uint8\")\n",
    "img1[:,:,0]=255\n",
    "img2=np.zeros((512,512,3),\"uint8\")\n",
    "img2[:,:,2]=255\n",
    "\n",
    "trackbarName=\"alpha\"\n",
    "cv.namedWindow(title_window)\n",
    "cv.createTrackbar(trackbarName,title_window,0,max_value,change_weight)\n",
    "\n",
    "change_weight(0)\n",
    "\n",
    "cv.waitKey()\n",
    "cv.destroyAllWindows()"
   ]
  },
  {
   "cell_type": "markdown",
   "id": "33b4a1f9-70f7-49f2-9386-9e282fd8d4e3",
   "metadata": {},
   "source": [
    "### Interactive Color Mixing with Trackbars  \n",
    "\n",
    "This example demonstrates how to **adjust the color channels of an image interactively** using trackbars in OpenCV.  \n",
    "\n",
    "---\n",
    "\n",
    "#### How it works:\n",
    "\n",
    "1. **Image Setup**:  \n",
    "   - `img` → a black image of size `512x512` with 3 color channels (BGR).  \n",
    "\n",
    "2. **Trackbars Setup**:  \n",
    "   - `cv.createTrackbar` creates three trackbars named `\"green\"`, `\"blue\"`, and `\"red\"` in the window `\"image\"`.  \n",
    "   - Each trackbar ranges from `0` to `255`.  \n",
    "   - The callback function `do_nothing` is used because we will read the trackbar values manually in the loop.  \n",
    "\n",
    "3. **Updating Image**:  \n",
    "   - Inside the `while True` loop:  \n",
    "     - `cv.getTrackbarPos` reads the current position of each trackbar.  \n",
    "     - The image channels are updated according to the trackbar values:  \n",
    "       - `img[:,:,0] = blue`  \n",
    "       - `img[:,:,1] = green`  \n",
    "       - `img[:,:,2] = red`  \n",
    "     - `cv.imshow` displays the updated image in real-time.  \n",
    "\n",
    "4. **Exit**:  \n",
    "   - Press **Esc (27)** → exit the loop.  \n",
    "   - `cv.destroyAllWindows()` closes all OpenCV windows.  \n",
    "\n",
    "---\n",
    "\n",
    "**Usage**:  \n",
    "- Move the **Red, Green, and Blue trackbars** to adjust the intensity of each color channel.  \n",
    "- The **image updates dynamically**, allowing interactive color mixing.  \n",
    "- Press **Esc** → close the window.  \n",
    "\n",
    "This is a simple way to experiment with **BGR color channels** and understand how each channel contributes to the final image.\n"
   ]
  },
  {
   "cell_type": "code",
   "execution_count": 4,
   "id": "8c85e08b-0a6a-4c13-88d9-cbcfd0e9ec0c",
   "metadata": {},
   "outputs": [],
   "source": [
    "title_window=\"image\"\n",
    "max_value=255\n",
    "def do_nothing(value):\n",
    "    pass\n",
    "    \n",
    "img=np.zeros((512,512,3),\"uint8\")\n",
    "cv.namedWindow(title_window)\n",
    "cv.createTrackbar(\"green\",title_window,0,max_value,do_nothing) \n",
    "cv.createTrackbar(\"blue\",title_window,0,max_value,do_nothing) \n",
    "cv.createTrackbar(\"red\",title_window,0,max_value,do_nothing) \n",
    "\n",
    "while True:\n",
    "    cv.imshow(\"image\",img)\n",
    "    if cv.waitKey(1)==27:\n",
    "        break\n",
    "    g=cv.getTrackbarPos(\"green\",title_window)\n",
    "    b=cv.getTrackbarPos(\"blue\",title_window)\n",
    "    r=cv.getTrackbarPos(\"red\",title_window)\n",
    "    img[:,:,2]=r;img[:,:,1]=g;img[:,:,0]=b\n",
    "cv.destroyAllWindows()        "
   ]
  },
  {
   "cell_type": "markdown",
   "id": "33f30d6a-79cc-4967-b053-8c1d1778131f",
   "metadata": {},
   "source": [
    "### Capturing Video from Webcam  \n",
    "\n",
    "This example demonstrates how to **capture live video from a webcam** using OpenCV.  \n",
    "\n",
    "---\n",
    "\n",
    "#### How it works:\n",
    "\n",
    "1. **Initialize Webcam**:  \n",
    "   - `cv.VideoCapture(0)` → opens the default webcam (`0` for the first camera).  \n",
    "   - If multiple cameras are connected, you can use `1`, `2`, etc., to select a different camera.  \n",
    "\n",
    "2. **Read Frames in a Loop**:  \n",
    "   - `cam.read()` → reads a frame from the webcam.  \n",
    "     - `num` → boolean indicating if the frame was read successfully.  \n",
    "     - `fram` → the captured frame.  \n",
    "   - `cv.flip(fram, 1)` → flips the frame horizontally to act like a mirror.  \n",
    "   - `cv.imshow(\"webcam\", fram)` → displays the live video in a window.  \n",
    "\n",
    "3. **Exit the Loop**:  \n",
    "   - `cv.waitKey(1)` checks for key presses.  \n",
    "   - Press **Esc (27)** → breaks the loop.  \n",
    "\n",
    "4. **Release Resources**:  \n",
    "   - `cv.destroyWindow(\"webcam\")` → closes the webcam window.  \n",
    "   - `cam.release()` → releases the webcam for other applications.  \n",
    "\n",
    "---\n",
    "\n",
    "**Usage**:  \n",
    "- Run the script → your webcam feed appears in a window.  \n",
    "- Press **Esc** → stop the webcam and close the window.  \n",
    "\n",
    "This is a basic setup for **real-time video capture** and can be extended for tasks like face detection, object tracking, or gesture recognition.\n"
   ]
  },
  {
   "cell_type": "code",
   "execution_count": 5,
   "id": "25fdc363-61e4-4713-8ec2-c38ef2e360a1",
   "metadata": {},
   "outputs": [],
   "source": [
    "cam=cv.VideoCapture(0)\n",
    "\n",
    "while True:\n",
    "    num,fram=cam.read()\n",
    "    fram=cv.flip(fram,1)\n",
    "    cv.imshow(\"webcam\",fram)\n",
    "    if cv.waitKey(1)==27:\n",
    "        break\n",
    "cv.destroyWindow(\"webcam\")\n",
    "cam.release()"
   ]
  },
  {
   "cell_type": "markdown",
   "id": "f229c802-1fc0-4ffa-ab9d-fcf55930cb9b",
   "metadata": {},
   "source": [
    "### Capturing Webcam Video and Extracting a Single Color Channel  \n",
    "\n",
    "This example demonstrates how to **capture live video from a webcam** and display only a **single color channel** (in this case, red) in real-time.  "
   ]
  },
  {
   "cell_type": "code",
   "execution_count": 6,
   "id": "25efc31d-f7d5-4378-a9a8-a8d510ee9fb1",
   "metadata": {},
   "outputs": [],
   "source": [
    "cam=cv.VideoCapture(0)\n",
    "\n",
    "while True:\n",
    "    ret,fram=cam.read()\n",
    "    fram=cv.flip(fram,1)\n",
    "    r,g,b=cv.split(fram)\n",
    "    new_img=np.zeros_like(fram)\n",
    "    new_img[:,:,0]=r\n",
    "    \n",
    "    cv.imshow(\"webcam\",new_img)\n",
    "    if cv.waitKey(1)==27:\n",
    "        break\n",
    "cv.destroyWindow(\"webcam\")\n",
    "cam.release()"
   ]
  },
  {
   "cell_type": "markdown",
   "id": "931d60b1-34ca-45c0-8a60-d6f4ba023a7b",
   "metadata": {},
   "source": [
    "### Reading and Displaying a Video File in Grayscale  \n",
    "\n",
    "This example demonstrates how to **read a video file** and display it frame by frame in **grayscale** using OpenCV.  \n",
    "\n",
    "---\n",
    "\n",
    "#### How it works:\n",
    "\n",
    "1. **Open Video File**:  \n",
    "   - `cv.VideoCapture(\"./Videos/hq1713261581456292.mp4\")` → opens the specified video file.  \n",
    "\n",
    "2. **Read Frames in a Loop**:  \n",
    "   - `cam.read()` → reads each frame from the video.  \n",
    "     - `ret` → boolean indicating if the frame was successfully read.  \n",
    "     - `fram` → the captured frame.  \n",
    "   - `if not ret: break` → stops the loop when the video ends.  \n",
    "\n",
    "3. **Convert to Grayscale**:  \n",
    "   - `cv.cvtColor(fram, cv.COLOR_RGB2GRAY)` → converts the frame from RGB to grayscale.  \n",
    "\n",
    "4. **Display Frame**:  \n",
    "   - `cv.imshow(\"video\", fram)` → shows the current grayscale frame in a window.  \n",
    "\n",
    "5. **Exit**:  \n",
    "   - Press **Esc (27)** → stops the loop.  \n",
    "   - `cv.destroyWindow(\"video\")` → closes the window.  \n",
    "   - `cam.release()` → releases the video file.  \n",
    "\n",
    "---\n",
    "\n",
    "**Usage**:  \n",
    "- Run the script → the video plays in grayscale frame by frame.  \n",
    "- Press **Esc** → stop playback and close the window.  \n",
    "\n",
    "This method can be extended to apply **filters or processing** to each frame, such as edge detection, color channel extraction, or object tracking.\n"
   ]
  },
  {
   "cell_type": "code",
   "execution_count": 7,
   "id": "c6a45206-10ae-4be4-89d9-dabdd24876fb",
   "metadata": {},
   "outputs": [],
   "source": [
    "cam=cv.VideoCapture(\"./Videos/hq1713261581456292.mp4\")\n",
    "\n",
    "while True:\n",
    "    ret,fram=cam.read()\n",
    "\n",
    "    if not ret:\n",
    "        break\n",
    "    fram=cv.cvtColor(fram,cv.COLOR_RGB2GRAY)    \n",
    "    cv.imshow(\"video\",fram)\n",
    "    if cv.waitKey(1)==27:\n",
    "        break\n",
    "cv.destroyWindow(\"video\")\n",
    "cam.release()"
   ]
  },
  {
   "cell_type": "markdown",
   "id": "35e63349-e17e-41e1-abea-dc514bcd3108",
   "metadata": {},
   "source": [
    "### Capturing Webcam Video and Saving to a File  \n",
    "\n",
    "This example demonstrates how to **capture live video from a webcam** and **save it to a video file** using OpenCV.  \n",
    "\n",
    "---\n",
    "\n",
    "#### How it works:\n",
    "\n",
    "1. **Initialize Webcam**:  \n",
    "   - `cv.VideoCapture(0)` → opens the default webcam.  \n",
    "   - `w = int(cam.get(3))` and `h = int(cam.get(4))` → get the width and height of the video frames.  \n",
    "\n",
    "2. **Setup Video Writer**:  \n",
    "   - `cv.VideoWriter_fourcc(*\"XVID\")` → defines the codec for the output video.  \n",
    "     - Alternative codecs can be used, e.g., `\"MP4V\"` for MP4 format.  \n",
    "   - `cv.VideoWriter(\"./Videos/output.avi\", fourcc, 20.0, (640,480))` → creates a video writer object:  \n",
    "     - `\"./Videos/output.avi\"` → output file path  \n",
    "     - `fourcc` → codec  \n",
    "     - `20.0` → frames per second (FPS)  \n",
    "     - `(640,480)` → frame size  \n",
    "\n",
    "3. **Read and Save Frames in a Loop**:  \n",
    "   - `cam.read()` → reads frames from the webcam.  \n",
    "   - `cv.flip(fram, 1)` → flips the frame horizontally.  \n",
    "   - `out.write(fram)` → writes the frame to the output file.  \n",
    "   - `cv.imshow(\"fram\", fram)` → displays the live video.  \n",
    "\n",
    "4. **Exit**:  \n",
    "   - Press **Esc (27)** → stops the loop.  \n",
    "   - `cam.release()` → releases the webcam.  \n",
    "   - `out.release()` → closes the video file.  \n",
    "   - `cv.destroyAllWindows()` → closes all OpenCV windows.  \n",
    "\n",
    "---\n",
    "\n",
    "**Usage**:  \n",
    "- Run the script → webcam feed appears and is recorded to `\"output.avi\"`.  \n",
    "- Press **Esc** → stop recording and close the window.  \n",
    "\n",
    "This method can be extended to **apply filters or processing** to live video before saving, such as adding overlays, color adjustments, or effects.\n"
   ]
  },
  {
   "cell_type": "code",
   "execution_count": 12,
   "id": "d9ec7a2c-7420-48f7-874c-0d8b2b378ec2",
   "metadata": {},
   "outputs": [],
   "source": [
    "cam=cv.VideoCapture(0)\n",
    "w=int(cam.get(3));h=int(cam.get(4))\n",
    "\n",
    "fourcc=cv.VideoWriter_fourcc(*\"XVID\")\n",
    "#fourcc=cv.VideoWriter_fourcc(*'MP4V')\n",
    "out=cv.VideoWriter(\"./Videos/output.avi\",fourcc,20.0,(640,480))\n",
    "\n",
    "while cam.isOpened():\n",
    "    ret,fram=cam.read()\n",
    "    if not ret:\n",
    "        break\n",
    "    fram=cv.flip(fram,1)    \n",
    "    out.write(fram)\n",
    "    cv.imshow(\"fram\",fram)\n",
    "    if cv.waitKey(1)==27:\n",
    "        break\n",
    "\n",
    "cam.release()\n",
    "out.release()\n",
    "cv.destroyAllWindows()    \n",
    "    \n",
    "    "
   ]
  },
  {
   "cell_type": "code",
   "execution_count": 14,
   "id": "0224c3a4-dfca-4bc0-a455-a7f4923bb539",
   "metadata": {},
   "outputs": [
    {
     "name": "stdout",
     "output_type": "stream",
     "text": [
      "Requirement already satisfied: pillow in c:\\users\\vaio\\anaconda3\\lib\\site-packages (11.1.0)\n",
      "Note: you may need to restart the kernel to use updated packages.\n"
     ]
    }
   ],
   "source": [
    "pip install pillow"
   ]
  },
  {
   "cell_type": "code",
   "execution_count": 15,
   "id": "6fb5fb3e-bebe-43f9-bc2d-c3781d4d9eaf",
   "metadata": {},
   "outputs": [
    {
     "name": "stdout",
     "output_type": "stream",
     "text": [
      "Collecting pyscreenshot\n",
      "  Downloading pyscreenshot-3.1-py3-none-any.whl.metadata (1.4 kB)\n",
      "Collecting EasyProcess (from pyscreenshot)\n",
      "  Downloading EasyProcess-1.1-py3-none-any.whl.metadata (855 bytes)\n",
      "Collecting entrypoint2 (from pyscreenshot)\n",
      "  Downloading entrypoint2-1.1-py2.py3-none-any.whl.metadata (1.0 kB)\n",
      "Collecting mss (from pyscreenshot)\n",
      "  Downloading mss-10.0.0-py3-none-any.whl.metadata (6.1 kB)\n",
      "Downloading pyscreenshot-3.1-py3-none-any.whl (28 kB)\n",
      "Downloading EasyProcess-1.1-py3-none-any.whl (8.7 kB)\n",
      "Downloading entrypoint2-1.1-py2.py3-none-any.whl (9.9 kB)\n",
      "Downloading mss-10.0.0-py3-none-any.whl (24 kB)\n",
      "Installing collected packages: entrypoint2, EasyProcess, mss, pyscreenshot\n",
      "\n",
      "   -------------------- ------------------- 2/4 [mss]\n",
      "   ------------------------------ --------- 3/4 [pyscreenshot]\n",
      "   ---------------------------------------- 4/4 [pyscreenshot]\n",
      "\n",
      "Successfully installed EasyProcess-1.1 entrypoint2-1.1 mss-10.0.0 pyscreenshot-3.1\n",
      "Note: you may need to restart the kernel to use updated packages.\n"
     ]
    }
   ],
   "source": [
    "pip install pyscreenshot"
   ]
  },
  {
   "cell_type": "markdown",
   "id": "8f01fbc7-a69d-486c-a09a-dc213e3f9d47",
   "metadata": {},
   "source": [
    "### Capturing the Screen in Real-Time  \n",
    "\n",
    "This example demonstrates how to **capture the computer screen** and display it in real-time using **PIL** and **OpenCV**.  \n",
    "\n",
    "---\n",
    "\n",
    "#### How it works:\n",
    "\n",
    "1. **Import Libraries**:  \n",
    "   - `numpy` → for handling image arrays.  \n",
    "   - `ImageGrab` from `PIL` → to capture screenshots.  \n",
    "   - `cv2` → for displaying and processing images.  \n",
    "\n",
    "2. **Capture Screen in a Loop**:  \n",
    "   - `ImageGrab.grab()` → captures the entire screen as an image.  \n",
    "   - `np.array()` → converts the captured image to a NumPy array compatible with OpenCV.  \n",
    "   - `cv.imshow(\"screen\", fram)` → displays the captured screen in a window.  \n",
    "\n",
    "3. **Exit**:  \n",
    "   - `cv.waitKey(1)` → waits for key press.  \n",
    "   - Press **Esc (27)** → breaks the loop.  \n",
    "   - `cv.destroyAllWindows()` → closes the window.  \n",
    "\n",
    "---\n",
    "\n",
    "**Usage**:  \n",
    "- Run the script → a window shows the live screen capture.  \n",
    "- Press **Esc** → stop capturing and close the window.  \n",
    "\n",
    "This method is useful for **screen recording, live monitoring, or creating screen-based applications**.\n"
   ]
  },
  {
   "cell_type": "code",
   "execution_count": 8,
   "id": "fa3f73f1-89f7-4510-9d17-ac646296fb5c",
   "metadata": {},
   "outputs": [],
   "source": [
    "import numpy as np\n",
    "from PIL import ImageGrab\n",
    "import cv2 as cv\n",
    "\n",
    "while True:\n",
    "    \n",
    "    fram=np.array(ImageGrab.grab())\n",
    "\n",
    "    cv.imshow(\"screen\",fram)\n",
    "\n",
    "    if cv.waitKey(1)==27:\n",
    "        break\n",
    "\n",
    "cv.destroyAllWindows()        \n"
   ]
  },
  {
   "cell_type": "markdown",
   "id": "ae814063-ecac-4399-ab9e-2d19347fd703",
   "metadata": {},
   "source": [
    "### Capturing a Region of the Screen  \n",
    "\n",
    "This example demonstrates how to **capture a specific region of the screen** in real-time using **PIL** and **OpenCV**.  \n",
    "\n",
    "---\n",
    "\n",
    "#### How it works:\n",
    "\n",
    "1. **Capture a Region**:  \n",
    "   - `ImageGrab.grab(bbox=(500,500,1000,1000))` → captures only the region defined by the bounding box:  \n",
    "     - `(x1, y1, x2, y2)` → top-left and bottom-right coordinates of the region.  \n",
    "   - `np.array()` → converts the captured region to a NumPy array for OpenCV.  \n",
    "\n",
    "2. **Display**:  \n",
    "   - `cv.imshow(\"screen\", fram)` → shows the captured region in a window.  \n",
    "\n",
    "3. **Exit**:  \n",
    "   - `cv.waitKey(1)` → waits for a key press.  \n",
    "   - Press **Esc (27)** → breaks the loop.  \n",
    "   - `cv.destroyAllWindows()` → closes the window.  \n",
    "\n",
    "---\n",
    "\n",
    "**Usage**:  \n",
    "- Run the script → only the defined screen region appears in the window.  \n",
    "- Press **Esc** → stop capturing and close the window.  \n",
    "\n",
    "This is useful for **focused screen recording** or monitoring a specific part of the display, such as an application window or game area.\n"
   ]
  },
  {
   "cell_type": "code",
   "execution_count": 9,
   "id": "aecb0210-7c13-4a52-8158-f11f5e7a6054",
   "metadata": {},
   "outputs": [],
   "source": [
    "while True:\n",
    "    \n",
    "    fram=np.array(ImageGrab.grab(bbox=(500,500,1000,1000)))\n",
    "\n",
    "    cv.imshow(\"screen\",fram)\n",
    "\n",
    "    if cv.waitKey(1)==27:\n",
    "        break\n",
    "\n",
    "cv.destroyAllWindows()        \n"
   ]
  }
 ],
 "metadata": {
  "kernelspec": {
   "display_name": "Python [conda env:base] *",
   "language": "python",
   "name": "conda-base-py"
  },
  "language_info": {
   "codemirror_mode": {
    "name": "ipython",
    "version": 3
   },
   "file_extension": ".py",
   "mimetype": "text/x-python",
   "name": "python",
   "nbconvert_exporter": "python",
   "pygments_lexer": "ipython3",
   "version": "3.13.5"
  }
 },
 "nbformat": 4,
 "nbformat_minor": 5
}
